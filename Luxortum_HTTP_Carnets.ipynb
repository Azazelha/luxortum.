{
 "cells": [
  {
   "cell_type": "markdown",
   "metadata": {},
   "source": [
    "# Luxortum HTTP Panel\n",
    "\n",
    "Цей ноутбук запускає локальний HTTP сервер прямо з Carnets. Він створює `config.json`, `memory.json`, і обслуговує сторінку `index.html` та `/persona.html`."
   ]
  },
  {
   "cell_type": "code",
   "execution_count": 1,
   "metadata": {},
   "outputs": [],
   "source": [
    "import http.server\n",
    "import socketserver\n",
    "import json\n",
    "import os\n",
    "\n",
    "PORT = 8080\n",
    "\n",
    "# Створюємо config.json якщо не існує\n",
    "if not os.path.exists(\"config.json\"):\n",
    "    with open(\"config.json\", \"w\", encoding=\"utf-8\") as f:\n",
    "        json.dump({}, f)\n",
    "\n",
    "# Створюємо memory.json якщо не існує\n",
    "if not os.path.exists(\"memory.json\"):\n",
    "    with open(\"memory.json\", \"w\", encoding=\"utf-8\") as f:\n",
    "        json.dump({}, f)\n",
    "\n",
    "# Створюємо index.html\n",
    "if not os.path.exists(\"index.html\"):\n",
    "    with open(\"index.html\", \"w\", encoding=\"utf-8\") as f:\n",
    "        f.write(\"\"\"\n",
    "<!DOCTYPE html>\n",
    "<html>\n",
    "<head><title>Luxortum Index</title></head>\n",
    "<body>\n",
    "<h1>Вітаємо у Luxortum HTTP Panel</h1>\n",
    "<a href='/persona'>Перейти до Persona</a>\n",
    "</body>\n",
    "</html>\n",
    "\"\"\")\n",
    "\n",
    "# Створюємо persona.html\n",
    "if not os.path.exists(\"persona.html\"):\n",
    "    with open(\"persona.html\", \"w\", encoding=\"utf-8\") as f:\n",
    "        f.write(\"\"\"\n",
    "<!DOCTYPE html>\n",
    "<html>\n",
    "<head><title>Persona</title></head>\n",
    "<body>\n",
    "<h1>Це сторінка Persona</h1>\n",
    "<a href='/'>Назад</a>\n",
    "</body>\n",
    "</html>\n",
    "\"\"\")\n"
   ]
  },
  {
   "cell_type": "code",
   "execution_count": null,
   "metadata": {},
   "outputs": [
    {
     "name": "stdout",
     "output_type": "stream",
     "text": [
      "Serving at port 8080\n"
     ]
    }
   ],
   "source": [
    "class MyHandler(http.server.SimpleHTTPRequestHandler):\n",
    "    def do_GET(self):\n",
    "        if self.path == \"/\":\n",
    "            self.path = \"index.html\"\n",
    "        elif self.path == \"/persona\":\n",
    "            self.path = \"persona.html\"\n",
    "        return http.server.SimpleHTTPRequestHandler.do_GET(self)\n",
    "\n",
    "Handler = MyHandler\n",
    "with socketserver.TCPServer((\"\", PORT), Handler) as httpd:\n",
    "    print(f\"Serving at port {PORT}\")\n",
    "    httpd.serve_forever()"
   ]
  },
  {
   "cell_type": "code",
   "execution_count": null,
   "metadata": {},
   "outputs": [],
   "source": []
  },
  {
   "cell_type": "code",
   "execution_count": null,
   "metadata": {},
   "outputs": [],
   "source": []
  }
 ],
 "metadata": {
  "kernelspec": {
   "display_name": "Python 3 (ipykernel)",
   "language": "python",
   "name": "python3"
  },
  "language_info": {
   "codemirror_mode": {
    "name": "ipython",
    "version": 3
   },
   "file_extension": ".py",
   "mimetype": "text/x-python",
   "name": "python",
   "nbconvert_exporter": "python",
   "pygments_lexer": "ipython3",
   "version": "3.11.0"
  }
 },
 "nbformat": 4,
 "nbformat_minor": 4
}
